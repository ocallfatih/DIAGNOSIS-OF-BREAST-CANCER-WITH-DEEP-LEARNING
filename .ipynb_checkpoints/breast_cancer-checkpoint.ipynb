{
 "cells": [
  {
   "cell_type": "markdown",
   "id": "73dd1a3a",
   "metadata": {},
   "source": [
    "### 1. Dataset"
   ]
  },
  {
   "cell_type": "code",
   "execution_count": 2,
   "id": "2470144c",
   "metadata": {},
   "outputs": [],
   "source": [
    "from imutils import paths\n",
    "import random\n",
    "import shutil\n",
    "import os\n",
    "\n",
    "ORIG_INPUT_DATASET = \"archive\"\n",
    "BASE_PATH = \"idc\"\n",
    "\n",
    "TRAIN_PATH = os.path.sep.join([BASE_PATH, \"training\"])\n",
    "VAL_PATH = os.path.sep.join([BASE_PATH, \"validation\"])\n",
    "TEST_PATH = os.path.sep.join([BASE_PATH, \"testing\"])\n",
    "\n",
    "TRAIN_SPLIT = 0.8\n",
    "VAL_SPLIT = 0.1\n",
    "\n",
    "imagePaths = list(paths.list_images(ORIG_INPUT_DATASET))\n",
    "random.seed(42)\n",
    "random.shuffle(imagePaths)\n",
    "\n",
    "i = int(len(imagePaths) * TRAIN_SPLIT)\n",
    "trainPaths = imagePaths[:i]\n",
    "testPaths = imagePaths[i:]\n",
    "\n",
    "i = int(len(trainPaths) * VAL_SPLIT)\n",
    "valPaths = trainPaths[:i]\n",
    "trainPaths = trainPaths[i:]\n",
    "\n",
    "datasets = [\n",
    "\t(\"training\", trainPaths, TRAIN_PATH),\n",
    "\t(\"validation\", valPaths, VAL_PATH),\n",
    "\t(\"testing\", testPaths, TEST_PATH)\n",
    "]"
   ]
  },
  {
   "cell_type": "code",
   "execution_count": 3,
   "id": "ede0c4cb",
   "metadata": {},
   "outputs": [
    {
     "name": "stdout",
     "output_type": "stream",
     "text": [
      "[INFO] building 'training' split\n",
      "[INFO] 'creating idc\\training' directory\n",
      "[INFO] 'creating idc\\training\\0' directory\n",
      "[INFO] 'creating idc\\training\\1' directory\n",
      "[INFO] building 'validation' split\n",
      "[INFO] 'creating idc\\validation' directory\n",
      "[INFO] 'creating idc\\validation\\1' directory\n",
      "[INFO] 'creating idc\\validation\\0' directory\n",
      "[INFO] building 'testing' split\n",
      "[INFO] 'creating idc\\testing' directory\n",
      "[INFO] 'creating idc\\testing\\1' directory\n",
      "[INFO] 'creating idc\\testing\\0' directory\n"
     ]
    }
   ],
   "source": [
    "for (dType, imagePaths, baseOutput) in datasets:\n",
    "\n",
    "    if not os.path.exists(baseOutput):\n",
    "\t\tos.makedirs(baseOutput)\n",
    "\tfor inputPath in imagePaths:\n",
    "        \n",
    "\t\tfilename = inputPath.split(os.path.sep)[-1]\n",
    "\t\tlabel = filename[-5:-4]\n",
    "\t\tlabelPath = os.path.sep.join([baseOutput, label])\n",
    "\n",
    "        if not os.path.exists(labelPath):\n",
    "\t\t\tprint(\"'creating {}'\".format(labelPath))\n",
    "\t\t\tos.makedirs(labelPath)\n",
    "            \n",
    "\t\tp = os.path.sep.join([labelPath, filename])\n",
    "\t\tshutil.copy2(inputPath, p)"
   ]
  },
  {
   "cell_type": "markdown",
   "id": "d4ee9e77",
   "metadata": {},
   "source": [
    "### 2. Dataset"
   ]
  },
  {
   "cell_type": "code",
   "execution_count": 4,
   "id": "b7e677af",
   "metadata": {},
   "outputs": [],
   "source": [
    "from tensorflow.keras.models import Sequential\n",
    "from tensorflow.keras.layers import BatchNormalization\n",
    "from tensorflow.keras.layers import SeparableConv2D\n",
    "from tensorflow.keras.layers import MaxPooling2D\n",
    "from tensorflow.keras.layers import Activation\n",
    "from tensorflow.keras.layers import Flatten\n",
    "from tensorflow.keras.layers import Dropout\n",
    "from tensorflow.keras.layers import Dense\n",
    "from tensorflow.keras import backend as K\n",
    "\n",
    "class Network:\n",
    "\n",
    "    def build(width, height, depth, classes):\n",
    "\t\tmodel = Sequential()\n",
    "\t\tinputShape = (height, width, depth)\n",
    "\t\tchanDim = -1\n",
    "\t\tif K.image_data_format() == \"channels_first\":\n",
    "\t\t\tinputShape = (depth, height, width)\n",
    "\t\t\tchanDim = 1\n",
    "            \n",
    "\t\tmodel.add(SeparableConv2D(32, (3, 3), padding=\"same\", input_shape=inputShape))\n",
    "\t\tmodel.add(Activation(\"relu\"))\n",
    "\t\tmodel.add(BatchNormalization(axis=chanDim))\n",
    "\t\tmodel.add(MaxPooling2D(pool_size=(2, 2)))\n",
    "\t\tmodel.add(Dropout(0.25))\n",
    "\n",
    "        model.add(SeparableConv2D(64, (3, 3), padding=\"same\"))\n",
    "\t\tmodel.add(Activation(\"relu\"))\n",
    "\t\tmodel.add(BatchNormalization(axis=chanDim))\n",
    "\t\tmodel.add(SeparableConv2D(64, (3, 3), padding=\"same\"))\n",
    "\t\tmodel.add(Activation(\"relu\"))\n",
    "\t\tmodel.add(BatchNormalization(axis=chanDim))\n",
    "\t\tmodel.add(MaxPooling2D(pool_size=(2, 2)))\n",
    "\t\tmodel.add(Dropout(0.25))\n",
    "\n",
    "        model.add(SeparableConv2D(128, (3, 3), padding=\"same\"))\n",
    "\t\tmodel.add(Activation(\"relu\"))\n",
    "\t\tmodel.add(BatchNormalization(axis=chanDim))\n",
    "\t\tmodel.add(SeparableConv2D(128, (3, 3), padding=\"same\"))\n",
    "\t\tmodel.add(Activation(\"relu\"))\n",
    "\t\tmodel.add(BatchNormalization(axis=chanDim))\n",
    "\t\tmodel.add(SeparableConv2D(128, (3, 3), padding=\"same\"))\n",
    "\t\tmodel.add(Activation(\"relu\"))\n",
    "\t\tmodel.add(BatchNormalization(axis=chanDim))\n",
    "\t\tmodel.add(MaxPooling2D(pool_size=(2, 2)))\n",
    "\t\tmodel.add(Dropout(0.25))      \n",
    "\n",
    "        model.add(Flatten())\n",
    "\t\tmodel.add(Dense(256))\n",
    "\t\tmodel.add(Activation(\"relu\"))\n",
    "\t\tmodel.add(BatchNormalization())\n",
    "\t\tmodel.add(Dropout(0.5))\n",
    "\n",
    "        model.add(Dense(classes))\n",
    "\t\tmodel.add(Activation(\"softmax\"))\n",
    "\n",
    "        return model"
   ]
  },
  {
   "cell_type": "code",
   "execution_count": 8,
   "id": "2c1f71b6",
   "metadata": {},
   "outputs": [],
   "source": [
    "NUM_EPOCHS = 40\n",
    "INIT_LR = 1e-2\n",
    "BS = 32\n",
    "\n",
    "trainPaths = list(paths.list_images(TRAIN_PATH))\n",
    "totalTrain = len(trainPaths)\n",
    "totalVal = len(list(paths.list_images(VAL_PATH)))\n",
    "totalTest = len(list(paths.list_images(TEST_PATH)))\n",
    "\n",
    "trainLabels = [int(p.split(os.path.sep)[-2]) for p in trainPaths]\n",
    "trainLabels = to_categorical(trainLabels)\n",
    "classTotals = trainLabels.sum(axis=0)\n",
    "classWeight = dict()\n",
    "\n",
    "for i in range(0, len(classTotals)):\n",
    "\tclassWeight[i] = classTotals.max() / classTotals[i]"
   ]
  },
  {
   "cell_type": "code",
   "execution_count": 9,
   "id": "3a3d32e8",
   "metadata": {},
   "outputs": [],
   "source": [
    "trainAug = ImageDataGenerator(\n",
    "\trescale=1 / 255.0,\n",
    "\trotation_range=20,\n",
    "\tzoom_range=0.05,\n",
    "\twidth_shift_range=0.1,\n",
    "\theight_shift_range=0.1,\n",
    "\tshear_range=0.05,\n",
    "\thorizontal_flip=True,\n",
    "\tvertical_flip=True,\n",
    "\tfill_mode=\"nearest\")\n",
    "\n",
    "valAug = ImageDataGenerator(rescale=1 / 255.0)"
   ]
  },
  {
   "cell_type": "code",
   "execution_count": 11,
   "id": "e5f00d6e",
   "metadata": {},
   "outputs": [
    {
     "name": "stdout",
     "output_type": "stream",
     "text": [
      "Found 255556 images belonging to 2 classes.\n",
      "Found 42596 images belonging to 2 classes.\n",
      "Found 99743 images belonging to 2 classes.\n"
     ]
    }
   ],
   "source": [
    "trainGen = trainAug.flow_from_directory(\n",
    "\tTRAIN_PATH,\n",
    "\tclass_mode=\"categorical\",\n",
    "\ttarget_size=(48, 48),\n",
    "\tcolor_mode=\"rgb\",\n",
    "\tshuffle=True,\n",
    "\tbatch_size=BS)\n",
    "\n",
    "valGen = valAug.flow_from_directory(\n",
    "\tVAL_PATH,\n",
    "\tclass_mode=\"categorical\",\n",
    "\ttarget_size=(48, 48),\n",
    "\tcolor_mode=\"rgb\",\n",
    "\tshuffle=False,\n",
    "\tbatch_size=BS)\n",
    "\n",
    "testGen = valAug.flow_from_directory(\n",
    "\tTEST_PATH,\n",
    "\tclass_mode=\"categorical\",\n",
    "\ttarget_size=(48, 48),\n",
    "\tcolor_mode=\"rgb\",\n",
    "\tshuffle=False,\n",
    "\tbatch_size=BS)"
   ]
  },
  {
   "cell_type": "code",
   "execution_count": 12,
   "id": "1ef7bb6c",
   "metadata": {},
   "outputs": [
    {
     "name": "stderr",
     "output_type": "stream",
     "text": [
      "E:\\anaconda3\\lib\\site-packages\\keras\\optimizer_v2\\adagrad.py:74: UserWarning: The `lr` argument is deprecated, use `learning_rate` instead.\n",
      "  super(Adagrad, self).__init__(name, **kwargs)\n"
     ]
    },
    {
     "name": "stdout",
     "output_type": "stream",
     "text": [
      "Epoch 1/40\n",
      "7986/7986 [==============================] - 10381s 1s/step - loss: 0.6131 - accuracy: 0.8172 - val_loss: 0.4441 - val_accuracy: 0.8183\n",
      "Epoch 2/40\n",
      "7986/7986 [==============================] - 1172s 147ms/step - loss: 0.5631 - accuracy: 0.8294 - val_loss: 0.4739 - val_accuracy: 0.8124\n",
      "Epoch 3/40\n",
      "7986/7986 [==============================] - 819s 103ms/step - loss: 0.5536 - accuracy: 0.8327 - val_loss: 0.4647 - val_accuracy: 0.8146\n",
      "Epoch 4/40\n",
      "7986/7986 [==============================] - 812s 102ms/step - loss: 0.5500 - accuracy: 0.8340 - val_loss: 0.4733 - val_accuracy: 0.8148\n",
      "Epoch 5/40\n",
      "7986/7986 [==============================] - 824s 103ms/step - loss: 0.5468 - accuracy: 0.8357 - val_loss: 0.4655 - val_accuracy: 0.8190\n",
      "Epoch 6/40\n",
      "7986/7986 [==============================] - 1903s 238ms/step - loss: 0.5437 - accuracy: 0.8356 - val_loss: 0.4644 - val_accuracy: 0.8178\n",
      "Epoch 7/40\n",
      "7986/7986 [==============================] - 3274s 406ms/step - loss: 0.5430 - accuracy: 0.8361 - val_loss: 0.4637 - val_accuracy: 0.8203\n",
      "Epoch 8/40\n",
      "7986/7986 [==============================] - 1223s 153ms/step - loss: 0.5412 - accuracy: 0.8365 - val_loss: 0.4772 - val_accuracy: 0.8163\n",
      "Epoch 9/40\n",
      "7986/7986 [==============================] - 831s 104ms/step - loss: 0.5421 - accuracy: 0.8365 - val_loss: 0.4792 - val_accuracy: 0.8151\n",
      "Epoch 10/40\n",
      "7986/7986 [==============================] - 1809s 227ms/step - loss: 0.5410 - accuracy: 0.8369 - val_loss: 0.4758 - val_accuracy: 0.8155\n",
      "Epoch 11/40\n",
      "7986/7986 [==============================] - 1516s 190ms/step - loss: 0.5403 - accuracy: 0.8372 - val_loss: 0.4609 - val_accuracy: 0.8197\n",
      "Epoch 12/40\n",
      "7986/7986 [==============================] - 800s 100ms/step - loss: 0.5390 - accuracy: 0.8375 - val_loss: 0.4721 - val_accuracy: 0.8175\n",
      "Epoch 13/40\n",
      "7986/7986 [==============================] - 1017s 127ms/step - loss: 0.5382 - accuracy: 0.8387 - val_loss: 0.4720 - val_accuracy: 0.8189\n",
      "Epoch 14/40\n",
      "7986/7986 [==============================] - 1165s 146ms/step - loss: 0.5373 - accuracy: 0.8375 - val_loss: 0.4718 - val_accuracy: 0.8183\n",
      "Epoch 15/40\n",
      "7986/7986 [==============================] - 819s 103ms/step - loss: 0.5368 - accuracy: 0.8377 - val_loss: 0.4709 - val_accuracy: 0.8187\n",
      "Epoch 16/40\n",
      "7986/7986 [==============================] - 821s 103ms/step - loss: 0.5390 - accuracy: 0.8376 - val_loss: 0.4726 - val_accuracy: 0.8173\n",
      "Epoch 17/40\n",
      "7986/7986 [==============================] - 1713s 214ms/step - loss: 0.5370 - accuracy: 0.8376 - val_loss: 0.4648 - val_accuracy: 0.8199\n",
      "Epoch 18/40\n",
      "7986/7986 [==============================] - 1358s 170ms/step - loss: 0.5372 - accuracy: 0.8376 - val_loss: 0.4676 - val_accuracy: 0.8182\n",
      "Epoch 19/40\n",
      "7986/7986 [==============================] - 807s 101ms/step - loss: 0.5378 - accuracy: 0.8378 - val_loss: 0.4731 - val_accuracy: 0.8176\n",
      "Epoch 20/40\n",
      "7986/7986 [==============================] - 817s 102ms/step - loss: 0.5366 - accuracy: 0.8383 - val_loss: 0.4654 - val_accuracy: 0.8193\n",
      "Epoch 21/40\n",
      "7986/7986 [==============================] - 1192s 149ms/step - loss: 0.5358 - accuracy: 0.8385 - val_loss: 0.4718 - val_accuracy: 0.8191\n",
      "Epoch 22/40\n",
      "7986/7986 [==============================] - 1665s 206ms/step - loss: 0.5367 - accuracy: 0.8381 - val_loss: 0.4645 - val_accuracy: 0.8205\n",
      "Epoch 23/40\n",
      "7986/7986 [==============================] - 849s 106ms/step - loss: 0.5348 - accuracy: 0.8388 - val_loss: 0.4671 - val_accuracy: 0.8201\n",
      "Epoch 24/40\n",
      "7986/7986 [==============================] - 816s 102ms/step - loss: 0.5350 - accuracy: 0.8384 - val_loss: 0.4673 - val_accuracy: 0.8192\n",
      "Epoch 25/40\n",
      "7986/7986 [==============================] - 1176s 147ms/step - loss: 0.5366 - accuracy: 0.8384 - val_loss: 0.4712 - val_accuracy: 0.8195\n",
      "Epoch 26/40\n",
      "7986/7986 [==============================] - 1532s 192ms/step - loss: 0.5353 - accuracy: 0.8389 - val_loss: 0.4758 - val_accuracy: 0.8179\n",
      "Epoch 27/40\n",
      "7986/7986 [==============================] - 2979s 373ms/step - loss: 0.5339 - accuracy: 0.8389 - val_loss: 0.4666 - val_accuracy: 0.8198\n",
      "Epoch 28/40\n",
      "7986/7986 [==============================] - 1567s 196ms/step - loss: 0.5369 - accuracy: 0.8378 - val_loss: 0.4642 - val_accuracy: 0.8205\n",
      "Epoch 29/40\n",
      "7986/7986 [==============================] - 842s 105ms/step - loss: 0.5365 - accuracy: 0.8390 - val_loss: 0.4758 - val_accuracy: 0.8194\n",
      "Epoch 30/40\n",
      "7986/7986 [==============================] - 1034s 129ms/step - loss: 0.5349 - accuracy: 0.8395 - val_loss: 0.4669 - val_accuracy: 0.8196\n",
      "Epoch 31/40\n",
      "7986/7986 [==============================] - 1984s 247ms/step - loss: 0.5352 - accuracy: 0.8389 - val_loss: 0.4667 - val_accuracy: 0.8202\n",
      "Epoch 32/40\n",
      "7986/7986 [==============================] - 1130s 141ms/step - loss: 0.5338 - accuracy: 0.8394 - val_loss: 0.4674 - val_accuracy: 0.8201\n",
      "Epoch 33/40\n",
      "7986/7986 [==============================] - 807s 101ms/step - loss: 0.5349 - accuracy: 0.8394 - val_loss: 0.4743 - val_accuracy: 0.8175\n",
      "Epoch 34/40\n",
      "7986/7986 [==============================] - 1300s 163ms/step - loss: 0.5344 - accuracy: 0.8400 - val_loss: 0.4602 - val_accuracy: 0.8217\n",
      "Epoch 35/40\n",
      "7986/7986 [==============================] - 993s 124ms/step - loss: 0.5343 - accuracy: 0.8389 - val_loss: 0.4643 - val_accuracy: 0.8206\n",
      "Epoch 36/40\n",
      "7986/7986 [==============================] - 1526s 191ms/step - loss: 0.5322 - accuracy: 0.8395 - val_loss: 0.4617 - val_accuracy: 0.8222\n",
      "Epoch 37/40\n",
      "7986/7986 [==============================] - 2727s 332ms/step - loss: 0.5341 - accuracy: 0.8391 - val_loss: 0.4574 - val_accuracy: 0.8227\n",
      "Epoch 38/40\n",
      "7986/7986 [==============================] - 815s 102ms/step - loss: 0.5344 - accuracy: 0.8385 - val_loss: 0.4672 - val_accuracy: 0.8199\n",
      "Epoch 39/40\n",
      "7986/7986 [==============================] - 804s 101ms/step - loss: 0.5358 - accuracy: 0.8386 - val_loss: 0.4637 - val_accuracy: 0.8219\n",
      "Epoch 40/40\n",
      "7986/7986 [==============================] - 1241s 155ms/step - loss: 0.5333 - accuracy: 0.8391 - val_loss: 0.4599 - val_accuracy: 0.8221\n"
     ]
    }
   ],
   "source": [
    "model = Network.build(width=48, height=48, depth=3,\n",
    "\tclasses=2)\n",
    "opt = Adagrad(lr=INIT_LR, decay=INIT_LR / NUM_EPOCHS)\n",
    "model.compile(loss=\"binary_crossentropy\", optimizer=opt,\n",
    "\tmetrics=[\"accuracy\"])\n",
    "\n",
    "H = model.fit(\n",
    "\tx=trainGen,\n",
    "\tsteps_per_epoch=totalTrain // BS,\n",
    "\tvalidation_data=valGen,\n",
    "\tvalidation_steps=totalVal // BS,\n",
    "\tclass_weight=classWeight,\n",
    "\tepochs=NUM_EPOCHS)"
   ]
  },
  {
   "cell_type": "code",
   "execution_count": 13,
   "id": "990149c7",
   "metadata": {},
   "outputs": [],
   "source": [
    "model.save(\"model.h5\")"
   ]
  },
  {
   "cell_type": "code",
   "execution_count": 21,
   "id": "c468c75f",
   "metadata": {},
   "outputs": [
    {
     "data": {
      "text/plain": [
       "99743"
      ]
     },
     "execution_count": 21,
     "metadata": {},
     "output_type": "execute_result"
    }
   ],
   "source": [
    "len(predIdxs)"
   ]
  },
  {
   "cell_type": "markdown",
   "id": "5780cea6",
   "metadata": {},
   "source": [
    "### 3. Prediction"
   ]
  },
  {
   "cell_type": "code",
   "execution_count": 1,
   "id": "ac9a5299",
   "metadata": {},
   "outputs": [],
   "source": [
    "from keras.models import Sequential, load_model\n",
    "\n",
    "model = load_model(\"model.h5\")"
   ]
  },
  {
   "cell_type": "code",
   "execution_count": 2,
   "id": "38ecc39b",
   "metadata": {},
   "outputs": [],
   "source": [
    "from PIL import Image\n",
    "import numpy as np\n",
    "\n",
    "test_img = \"test30.png\"\n",
    "\n",
    "data=[]\n",
    "\n",
    "image = Image.open(test_img)\n",
    "image = image.resize((48,48))\n",
    "\n",
    "data.append(np.array(image))\n",
    "\n",
    "X_test=np.array(data)"
   ]
  },
  {
   "cell_type": "code",
   "execution_count": 3,
   "id": "45344287",
   "metadata": {},
   "outputs": [],
   "source": [
    "labels = {  0:'No Cancer',\n",
    "            1:'Cancer Detected !'}"
   ]
  },
  {
   "cell_type": "code",
   "execution_count": 4,
   "id": "32446967",
   "metadata": {},
   "outputs": [
    {
     "name": "stdout",
     "output_type": "stream",
     "text": [
      "Prediction: No Cancer\n"
     ]
    }
   ],
   "source": [
    "predict_x=model.predict(X_test) \n",
    "\n",
    "labels_x=np.argmax(predict_x,axis=1)\n",
    "print(\"Prediction:\",labels[labels_x[0]])"
   ]
  },
  {
   "cell_type": "code",
   "execution_count": 5,
   "id": "47d17e77",
   "metadata": {},
   "outputs": [],
   "source": [
    "import cv2\n",
    "\n",
    "img = cv2.imread(test_img)\n",
    "img = cv2.resize(img,(250,250))\n",
    "\n",
    "cv2.putText(img, labels[labels_x[0]], (10,35), cv2.FONT_HERSHEY_SIMPLEX, 0.5, (0,255,0), 1, cv2.LINE_AA)\n",
    "\n",
    "\n",
    "cv2.imshow(\"Prediction\",img)\n",
    "cv2.waitKey(0)\n",
    "cv2.destroyAllWindows()"
   ]
  }
 ],
 "metadata": {
  "kernelspec": {
   "display_name": "Python 3",
   "language": "python",
   "name": "python3"
  },
  "language_info": {
   "codemirror_mode": {
    "name": "ipython",
    "version": 3
   },
   "file_extension": ".py",
   "mimetype": "text/x-python",
   "name": "python",
   "nbconvert_exporter": "python",
   "pygments_lexer": "ipython3",
   "version": "3.8.8"
  }
 },
 "nbformat": 4,
 "nbformat_minor": 5
}
